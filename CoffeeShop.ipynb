{
 "cells": [
  {
   "cell_type": "code",
   "execution_count": null,
   "id": "926f5f3d-c600-4e50-bb32-8a6dd55b4669",
   "metadata": {},
   "outputs": [],
   "source": [
    "# Allows the user to request a number of coffees and muffins and calculates the total cost with tax.\n",
    "# Displays a recipt that shows the user a breakdown of their total cost."
   ]
  },
  {
   "cell_type": "code",
   "execution_count": null,
   "id": "3fa988a7-669a-4d7b-a66a-a466106811eb",
   "metadata": {},
   "outputs": [],
   "source": [
    "# Sets the price of menu items"
   ]
  },
  {
   "cell_type": "code",
   "execution_count": 401,
   "id": "5fe041ec-5399-4c63-b279-a23eb5638caf",
   "metadata": {},
   "outputs": [],
   "source": [
    "coffeePrice = 5.00"
   ]
  },
  {
   "cell_type": "code",
   "execution_count": 402,
   "id": "a9ba2ec0-d01b-428a-957f-2c3a8fba7a24",
   "metadata": {},
   "outputs": [],
   "source": [
    "muffinPrice = 4.00"
   ]
  },
  {
   "cell_type": "code",
   "execution_count": null,
   "id": "67bf9ecf-9238-4675-ac23-c3557b3642c9",
   "metadata": {},
   "outputs": [],
   "source": [
    "# Welcomes and requests the user to input how many menu items they bought"
   ]
  },
  {
   "cell_type": "code",
   "execution_count": 403,
   "id": "52e319d2-2ec0-4838-b1db-c2c2d12ea18f",
   "metadata": {},
   "outputs": [
    {
     "name": "stdout",
     "output_type": "stream",
     "text": [
      "***************************************\n"
     ]
    }
   ],
   "source": [
    "print (\"***************************************\")"
   ]
  },
  {
   "cell_type": "code",
   "execution_count": 404,
   "id": "d7b2e904-db6e-4c39-a6ce-f9e07ffa00ce",
   "metadata": {},
   "outputs": [
    {
     "name": "stdout",
     "output_type": "stream",
     "text": [
      "My Coffee and Muffin Shop\n"
     ]
    }
   ],
   "source": [
    "print (\"My Coffee and Muffin Shop\")"
   ]
  },
  {
   "cell_type": "code",
   "execution_count": 405,
   "id": "9f70d34e-336b-4bfc-bc2f-cf9bb9ab2788",
   "metadata": {},
   "outputs": [
    {
     "name": "stdout",
     "output_type": "stream",
     "text": [
      "Number of coffees bought?\n"
     ]
    }
   ],
   "source": [
    "print (\"Number of coffees bought?\")"
   ]
  },
  {
   "cell_type": "code",
   "execution_count": 406,
   "id": "01f149a5-053e-4206-96fb-e541f93e83ac",
   "metadata": {},
   "outputs": [
    {
     "name": "stdin",
     "output_type": "stream",
     "text": [
      " 1\n"
     ]
    }
   ],
   "source": [
    "coffeesBoughtInput = input (\"\")"
   ]
  },
  {
   "cell_type": "code",
   "execution_count": 407,
   "id": "c99d8366-715f-461f-b7dc-6528cde4e98f",
   "metadata": {},
   "outputs": [],
   "source": [
    "coffeesBought = int(coffeesBoughtInput)"
   ]
  },
  {
   "cell_type": "code",
   "execution_count": 408,
   "id": "022dfe12-6672-41dc-bcf6-f3aef248bafb",
   "metadata": {},
   "outputs": [
    {
     "name": "stdout",
     "output_type": "stream",
     "text": [
      "Number of muffins bought?\n"
     ]
    }
   ],
   "source": [
    "print (\"Number of muffins bought?\")"
   ]
  },
  {
   "cell_type": "code",
   "execution_count": 409,
   "id": "d14cad68-feed-40b6-91e4-562ed7944bb1",
   "metadata": {},
   "outputs": [
    {
     "name": "stdin",
     "output_type": "stream",
     "text": [
      " 2\n"
     ]
    }
   ],
   "source": [
    "muffinsBoughtInput = input (\"\")"
   ]
  },
  {
   "cell_type": "code",
   "execution_count": null,
   "id": "b5666ee4-a34e-4b62-bfb0-c964a2d36a23",
   "metadata": {},
   "outputs": [],
   "source": [
    "# Calculates the costs spent on each menu item and applies tax to a total cost"
   ]
  },
  {
   "cell_type": "code",
   "execution_count": 410,
   "id": "c8afe2a4-97f1-484a-8aa4-e75c224121b8",
   "metadata": {},
   "outputs": [],
   "source": [
    "muffinBought = int(muffinsBoughtInput)"
   ]
  },
  {
   "cell_type": "code",
   "execution_count": 411,
   "id": "2d4a89a2-176b-41b7-abe8-0acf9843e332",
   "metadata": {},
   "outputs": [],
   "source": [
    "coffeeTotalCost = coffeesBought * coffeePrice"
   ]
  },
  {
   "cell_type": "code",
   "execution_count": 412,
   "id": "38758c04-4413-4648-a315-d6787b37fea3",
   "metadata": {},
   "outputs": [],
   "source": [
    "muffinTotalCost = muffinsBought * muffinPrice"
   ]
  },
  {
   "cell_type": "code",
   "execution_count": 413,
   "id": "d7c16f0e-719c-41f2-b1b6-475a4a3a9ff3",
   "metadata": {},
   "outputs": [],
   "source": [
    "totalCostBeforeTax = coffeeTotalCost + muffinTotalCost"
   ]
  },
  {
   "cell_type": "code",
   "execution_count": 414,
   "id": "a45eb748-8bbd-4188-bb30-07e05685d849",
   "metadata": {},
   "outputs": [],
   "source": [
    "tax = totalCostBeforeTax * 0.06"
   ]
  },
  {
   "cell_type": "code",
   "execution_count": 415,
   "id": "fd6aed4a-7257-46ac-80d3-c7bc8fae3f21",
   "metadata": {},
   "outputs": [],
   "source": [
    "totalCost = totalCostBeforeTax + tax"
   ]
  },
  {
   "cell_type": "code",
   "execution_count": 416,
   "id": "8b900e57-d8dc-45c9-8a30-c713e914d896",
   "metadata": {},
   "outputs": [
    {
     "name": "stdout",
     "output_type": "stream",
     "text": [
      "***************************************\n"
     ]
    }
   ],
   "source": [
    "print (\"***************************************\")"
   ]
  },
  {
   "cell_type": "code",
   "execution_count": 417,
   "id": "8dfe551c-d682-4ce5-b3bf-6bc40672860f",
   "metadata": {},
   "outputs": [
    {
     "name": "stdout",
     "output_type": "stream",
     "text": [
      " \n"
     ]
    }
   ],
   "source": [
    "print (\" \")"
   ]
  },
  {
   "cell_type": "code",
   "execution_count": null,
   "id": "01a097b2-48a7-4b28-a3e7-0c703206e63e",
   "metadata": {},
   "outputs": [],
   "source": [
    "# Prints the recipt"
   ]
  },
  {
   "cell_type": "code",
   "execution_count": 418,
   "id": "ce5fd2b7-d27b-4747-9045-b816dc4f73a1",
   "metadata": {},
   "outputs": [
    {
     "name": "stdout",
     "output_type": "stream",
     "text": [
      "***************************************\n"
     ]
    }
   ],
   "source": [
    "print (\"***************************************\")"
   ]
  },
  {
   "cell_type": "code",
   "execution_count": 419,
   "id": "5613b470-3907-4307-80d9-d392d6ffbd92",
   "metadata": {},
   "outputs": [
    {
     "name": "stdout",
     "output_type": "stream",
     "text": [
      "My Coffee and Muffin Shop Receipt\n"
     ]
    }
   ],
   "source": [
    "print (\"My Coffee and Muffin Shop Receipt\")"
   ]
  },
  {
   "cell_type": "code",
   "execution_count": 420,
   "id": "06ad6a79-f21c-463c-9d31-f1aeff2e672a",
   "metadata": {},
   "outputs": [
    {
     "name": "stdout",
     "output_type": "stream",
     "text": [
      "1 Coffee at $5.00 each: $ 5.00\n"
     ]
    }
   ],
   "source": [
    "print (f\"{coffeesBought} Coffee at ${coffeePrice:.2f} each: $ {coffeeTotalCost:.2f}\")"
   ]
  },
  {
   "cell_type": "code",
   "execution_count": 421,
   "id": "e91659fa-59cf-4092-ac0b-b3d8d10da88a",
   "metadata": {},
   "outputs": [
    {
     "name": "stdout",
     "output_type": "stream",
     "text": [
      "2 Muffins at $4.00 each: $ 8.00\n"
     ]
    }
   ],
   "source": [
    "print (f\"{muffinBought} Muffins at ${muffinPrice:.2f} each: $ {muffinTotalCost:.2f}\")"
   ]
  },
  {
   "cell_type": "code",
   "execution_count": 422,
   "id": "2238f286-8c39-4134-8405-547580045161",
   "metadata": {},
   "outputs": [
    {
     "name": "stdout",
     "output_type": "stream",
     "text": [
      "6% tax: $ 0.78\n"
     ]
    }
   ],
   "source": [
    "print (f\"6% tax: $ {tax}\")"
   ]
  },
  {
   "cell_type": "code",
   "execution_count": 423,
   "id": "fb4c4ae5-b91a-4abf-be0a-5835efaea2bf",
   "metadata": {},
   "outputs": [
    {
     "name": "stdout",
     "output_type": "stream",
     "text": [
      "---------\n"
     ]
    }
   ],
   "source": [
    "print(\"---------\")"
   ]
  },
  {
   "cell_type": "code",
   "execution_count": 424,
   "id": "7db33396-a927-4b5e-84c1-3267bed3aab3",
   "metadata": {},
   "outputs": [
    {
     "name": "stdout",
     "output_type": "stream",
     "text": [
      "Total: $ 13.78\n"
     ]
    }
   ],
   "source": [
    "print(f\"Total: $ {totalCost}\")"
   ]
  },
  {
   "cell_type": "code",
   "execution_count": 425,
   "id": "b8b41184-4093-4941-a1cc-12a42c8c5069",
   "metadata": {},
   "outputs": [
    {
     "name": "stdout",
     "output_type": "stream",
     "text": [
      "***************************************\n"
     ]
    }
   ],
   "source": [
    "print (\"***************************************\")"
   ]
  }
 ],
 "metadata": {
  "kernelspec": {
   "display_name": "Python 3 (ipykernel)",
   "language": "python",
   "name": "python3"
  },
  "language_info": {
   "codemirror_mode": {
    "name": "ipython",
    "version": 3
   },
   "file_extension": ".py",
   "mimetype": "text/x-python",
   "name": "python",
   "nbconvert_exporter": "python",
   "pygments_lexer": "ipython3",
   "version": "3.12.4"
  }
 },
 "nbformat": 4,
 "nbformat_minor": 5
}
